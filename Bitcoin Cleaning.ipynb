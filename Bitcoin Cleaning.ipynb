{
 "cells": [
  {
   "cell_type": "code",
   "execution_count": 8,
   "metadata": {},
   "outputs": [],
   "source": [
    "import numpy as np\n",
    "import pandas as pd\n",
    "import matplotlib.pyplot as plt\n",
    "import seaborn as sns\n",
    "import re\n",
    "%matplotlib inline"
   ]
  },
  {
   "cell_type": "code",
   "execution_count": 9,
   "metadata": {},
   "outputs": [
    {
     "name": "stderr",
     "output_type": "stream",
     "text": [
      "C:\\Users\\Delbert\\Anaconda3\\lib\\site-packages\\IPython\\core\\interactiveshell.py:3063: DtypeWarning: Columns (0,3) have mixed types.Specify dtype option on import or set low_memory=False.\n",
      "  interactivity=interactivity, compiler=compiler, result=result)\n"
     ]
    },
    {
     "data": {
      "text/html": [
       "<div>\n",
       "<style scoped>\n",
       "    .dataframe tbody tr th:only-of-type {\n",
       "        vertical-align: middle;\n",
       "    }\n",
       "\n",
       "    .dataframe tbody tr th {\n",
       "        vertical-align: top;\n",
       "    }\n",
       "\n",
       "    .dataframe thead th {\n",
       "        text-align: right;\n",
       "    }\n",
       "</style>\n",
       "<table border=\"1\" class=\"dataframe\">\n",
       "  <thead>\n",
       "    <tr style=\"text-align: right;\">\n",
       "      <th></th>\n",
       "      <th>id</th>\n",
       "      <th>user</th>\n",
       "      <th>fullname</th>\n",
       "      <th>url</th>\n",
       "      <th>timestamp</th>\n",
       "      <th>replies</th>\n",
       "      <th>likes</th>\n",
       "      <th>retweets</th>\n",
       "      <th>text</th>\n",
       "    </tr>\n",
       "  </thead>\n",
       "  <tbody>\n",
       "    <tr>\n",
       "      <th>0</th>\n",
       "      <td>1039389600546996224</td>\n",
       "      <td>coinimonster</td>\n",
       "      <td>CoiniMonster (Not giving away Coins)</td>\n",
       "      <td>NaN</td>\n",
       "      <td>2018-09-11 05:46:06+00:00</td>\n",
       "      <td>0.0</td>\n",
       "      <td>3.0</td>\n",
       "      <td>2.0</td>\n",
       "      <td>I didnt tether at $7300 #iamspartacus\\r\\n$btc ...</td>\n",
       "    </tr>\n",
       "    <tr>\n",
       "      <th>1</th>\n",
       "      <td>1078873154376880129</td>\n",
       "      <td>TheBitfi</td>\n",
       "      <td>Bitfi - open source: bitfi.dev</td>\n",
       "      <td>NaN</td>\n",
       "      <td>2018-12-29 04:39:39+00:00</td>\n",
       "      <td>9.0</td>\n",
       "      <td>61.0</td>\n",
       "      <td>16.0</td>\n",
       "      <td>The first lab made diamond happened in 1955 &amp;a...</td>\n",
       "    </tr>\n",
       "    <tr>\n",
       "      <th>2</th>\n",
       "      <td>906181724786352128</td>\n",
       "      <td>Crypto3TH</td>\n",
       "      <td>Crypto</td>\n",
       "      <td>NaN</td>\n",
       "      <td>2017-09-08 15:45:33+00:00</td>\n",
       "      <td>3.0</td>\n",
       "      <td>5.0</td>\n",
       "      <td>3.0</td>\n",
       "      <td>How China Sinks Bitcoin - Probably what happen...</td>\n",
       "    </tr>\n",
       "    <tr>\n",
       "      <th>3</th>\n",
       "      <td>986254195283161088</td>\n",
       "      <td>keno_sanders</td>\n",
       "      <td>Keno Sanders</td>\n",
       "      <td>NaN</td>\n",
       "      <td>2018-04-17 14:44:58+00:00</td>\n",
       "      <td>1.0</td>\n",
       "      <td>7.0</td>\n",
       "      <td>1.0</td>\n",
       "      <td>Great talk and discussions about Bitcoin vs. E...</td>\n",
       "    </tr>\n",
       "    <tr>\n",
       "      <th>4</th>\n",
       "      <td>961666624880365568</td>\n",
       "      <td>CryptoGamer_</td>\n",
       "      <td>CryptoGamer</td>\n",
       "      <td>NaN</td>\n",
       "      <td>2018-02-08 18:22:44+00:00</td>\n",
       "      <td>23.0</td>\n",
       "      <td>135.0</td>\n",
       "      <td>51.0</td>\n",
       "      <td>When things are down, remember it's never as b...</td>\n",
       "    </tr>\n",
       "  </tbody>\n",
       "</table>\n",
       "</div>"
      ],
      "text/plain": [
       "                    id          user                              fullname  \\\n",
       "0  1039389600546996224  coinimonster  CoiniMonster (Not giving away Coins)   \n",
       "1  1078873154376880129      TheBitfi        Bitfi - open source: bitfi.dev   \n",
       "2   906181724786352128     Crypto3TH                                Crypto   \n",
       "3   986254195283161088  keno_sanders                          Keno Sanders   \n",
       "4   961666624880365568  CryptoGamer_                           CryptoGamer   \n",
       "\n",
       "   url                 timestamp  replies  likes  retweets  \\\n",
       "0  NaN 2018-09-11 05:46:06+00:00      0.0    3.0       2.0   \n",
       "1  NaN 2018-12-29 04:39:39+00:00      9.0   61.0      16.0   \n",
       "2  NaN 2017-09-08 15:45:33+00:00      3.0    5.0       3.0   \n",
       "3  NaN 2018-04-17 14:44:58+00:00      1.0    7.0       1.0   \n",
       "4  NaN 2018-02-08 18:22:44+00:00     23.0  135.0      51.0   \n",
       "\n",
       "                                                text  \n",
       "0  I didnt tether at $7300 #iamspartacus\\r\\n$btc ...  \n",
       "1  The first lab made diamond happened in 1955 &a...  \n",
       "2  How China Sinks Bitcoin - Probably what happen...  \n",
       "3  Great talk and discussions about Bitcoin vs. E...  \n",
       "4  When things are down, remember it's never as b...  "
      ]
     },
     "execution_count": 9,
     "metadata": {},
     "output_type": "execute_result"
    }
   ],
   "source": [
    "df = pd.read_csv(\"corrected_bitcoin.csv\", error_bad_lines = False, encoding = \"ISO-8859-1\")\n",
    "df[\"timestamp\"] = pd.to_datetime(df[\"timestamp\"])\n",
    "df[\"text\"] = df[\"text\"].astype(str)\n",
    "df.head()"
   ]
  },
  {
   "cell_type": "code",
   "execution_count": 13,
   "metadata": {},
   "outputs": [
    {
     "data": {
      "text/plain": [
       "0          I didnt tether at $7300 #iamspartacus\\r\\n$btc ...\n",
       "1          The first lab made diamond happened in 1955 &a...\n",
       "2          How China Sinks Bitcoin - Probably what happen...\n",
       "3          Great talk and discussions about Bitcoin vs. E...\n",
       "4          When things are down, remember it's never as b...\n",
       "                                 ...                        \n",
       "1383223    Inbox me for BITCOIN investment https://t.co/s...\n",
       "1383224    Why don't you invest now for the future Bitcoi...\n",
       "1383225    I thought I should share this correctional wav...\n",
       "1383226    Welcome to Bitcoin, newcomers! Here's your FAQ...\n",
       "1383227    Hasan Minhaj really came for the Bitcoin bros ...\n",
       "Name: text, Length: 1383228, dtype: object"
      ]
     },
     "execution_count": 13,
     "metadata": {},
     "output_type": "execute_result"
    }
   ],
   "source": [
    "df[\"text\"]"
   ]
  },
  {
   "cell_type": "code",
   "execution_count": 3,
   "metadata": {},
   "outputs": [],
   "source": [
    "df[\"text\"] = df[\"text\"].str.replace('http.* ', '')\n",
    "df[\"text\"] = df[\"text\"].str.replace(' http.*', '')\n",
    "df[\"text\"] = df[\"text\"].str.replace(' .*http.* ', '')\n",
    "df[\"text\"] = df[\"text\"].str.replace('#.* ', '')\n",
    "df[\"text\"] = df[\"text\"].str.replace('[^A-Za-z ]', '')"
   ]
  },
  {
   "cell_type": "code",
   "execution_count": 4,
   "metadata": {},
   "outputs": [
    {
     "data": {
      "text/plain": [
       "0.44491580563724853"
      ]
     },
     "execution_count": 4,
     "metadata": {},
     "output_type": "execute_result"
    }
   ],
   "source": [
    "drop_list = []\n",
    "for x in range(len(df[\"text\"])):\n",
    "    if len(str(df[\"text\"][x])) < 60:\n",
    "        drop_list.append(x)\n",
    "len(drop_list)/len(df)"
   ]
  },
  {
   "cell_type": "code",
   "execution_count": 5,
   "metadata": {},
   "outputs": [],
   "source": [
    "df.drop(drop_list, inplace = True)\n",
    "df.reset_index(inplace = True, drop = True)"
   ]
  },
  {
   "cell_type": "code",
   "execution_count": 6,
   "metadata": {},
   "outputs": [],
   "source": [
    "df[\"timestamp\"] = pd.to_datetime(df[\"timestamp\"].dt.strftime('%Y-%m-%d'))"
   ]
  },
  {
   "cell_type": "code",
   "execution_count": 7,
   "metadata": {},
   "outputs": [],
   "source": [
    "df.to_csv(\"final bitcoin.csv\", index = False)"
   ]
  }
 ],
 "metadata": {
  "kernelspec": {
   "display_name": "Python 3",
   "language": "python",
   "name": "python3"
  },
  "language_info": {
   "codemirror_mode": {
    "name": "ipython",
    "version": 3
   },
   "file_extension": ".py",
   "mimetype": "text/x-python",
   "name": "python",
   "nbconvert_exporter": "python",
   "pygments_lexer": "ipython3",
   "version": "3.6.5"
  }
 },
 "nbformat": 4,
 "nbformat_minor": 4
}
